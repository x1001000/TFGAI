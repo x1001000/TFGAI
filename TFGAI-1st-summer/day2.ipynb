{
 "cells": [
  {
   "cell_type": "markdown",
   "metadata": {},
   "source": [
    "## 傳值\n",
    "把x的值傳入y，所以x和y是兩個各自獨立的變數"
   ]
  },
  {
   "cell_type": "code",
   "execution_count": 1,
   "metadata": {},
   "outputs": [
    {
     "name": "stdout",
     "output_type": "stream",
     "text": [
      "1001000\n",
      "0\n"
     ]
    }
   ],
   "source": [
    "x = 1001000\n",
    "y = x\n",
    "y = 0\n",
    "print(x)\n",
    "print(y)"
   ]
  },
  {
   "cell_type": "markdown",
   "metadata": {},
   "source": [
    "## 傳址\n",
    "把x的記憶體位址當作y的記憶體位址，所以x和y其實根本是同一個變數，串列預設為傳址！"
   ]
  },
  {
   "cell_type": "code",
   "execution_count": 2,
   "metadata": {},
   "outputs": [
    {
     "name": "stdout",
     "output_type": "stream",
     "text": [
      "['Hey', 1000]\n",
      "['Hey', 1000]\n"
     ]
    }
   ],
   "source": [
    "x = [100, 1000]\n",
    "y = x\n",
    "y[0] = 'Hey'    # 因為y就是x，所以更新y的元素就是更新x的元素\n",
    "print(x)\n",
    "print(y)"
   ]
  },
  {
   "cell_type": "code",
   "execution_count": 3,
   "metadata": {},
   "outputs": [
    {
     "name": "stdout",
     "output_type": "stream",
     "text": [
      "[100, 1000]\n",
      "Hey\n"
     ]
    }
   ],
   "source": [
    "x = [100, 1000]\n",
    "y = x\n",
    "y = 'Hey'      # y不再是x了\n",
    "print(x)\n",
    "print(y)"
   ]
  },
  {
   "cell_type": "markdown",
   "metadata": {},
   "source": [
    "## Kaggle\n",
    "頭尾對調那題  \n",
    "若這麼寫會correct"
   ]
  },
  {
   "cell_type": "code",
   "execution_count": 4,
   "metadata": {},
   "outputs": [
    {
     "data": {
      "text/plain": [
       "[5, 2, 3, 4, 1]"
      ]
     },
     "execution_count": 4,
     "metadata": {},
     "output_type": "execute_result"
    }
   ],
   "source": [
    "def purple_shell(racers):\n",
    "    L = racers[0]            # 用L記住最左邊的東東\n",
    "    racers[0] = racers[-1]   # 最右邊的東東代入最左邊\n",
    "    racers[-1] = L           # L代入最右邊\n",
    "\n",
    "testdata = [1,2,3,4,5]\n",
    "purple_shell(testdata)       # racers=testdata的意思，因為是傳址，所以testdata會隨racers改變而改變\n",
    "testdata"
   ]
  },
  {
   "cell_type": "markdown",
   "metadata": {},
   "source": [
    "Kaggle這題不是檢查函數傳回的值  \n",
    "而是檢查傳入函數的變數  \n",
    "若取名為testdata  \n",
    "就是檢查testdata\n",
    "\n",
    "\n",
    "因為racers只存在purple_shell函數內  \n",
    "所以racers不存在函數外"
   ]
  },
  {
   "cell_type": "code",
   "execution_count": 5,
   "metadata": {},
   "outputs": [
    {
     "ename": "NameError",
     "evalue": "name 'racers' is not defined",
     "output_type": "error",
     "traceback": [
      "\u001b[0;31m---------------------------------------------------------------------------\u001b[0m",
      "\u001b[0;31mNameError\u001b[0m                                 Traceback (most recent call last)",
      "\u001b[0;32m<ipython-input-5-d845efde423d>\u001b[0m in \u001b[0;36m<module>\u001b[0;34m()\u001b[0m\n\u001b[0;32m----> 1\u001b[0;31m \u001b[0mracers\u001b[0m\u001b[0;34m\u001b[0m\u001b[0m\n\u001b[0m",
      "\u001b[0;31mNameError\u001b[0m: name 'racers' is not defined"
     ]
    }
   ],
   "source": [
    "racers"
   ]
  },
  {
   "cell_type": "markdown",
   "metadata": {},
   "source": [
    "而這麼寫會incorrect  \n",
    "雖然racers也是變成我們要的頭尾對調  \n",
    "但是racers是新串列，不再是傳入的testdata了  \n",
    "而Kaggle這題是檢查傳入函數的變數testdata  \n",
    "並不是檢查racers  \n",
    "也無法檢查racers"
   ]
  },
  {
   "cell_type": "code",
   "execution_count": 6,
   "metadata": {},
   "outputs": [
    {
     "data": {
      "text/plain": [
       "[1, 2, 3, 4, 5]"
      ]
     },
     "execution_count": 6,
     "metadata": {},
     "output_type": "execute_result"
    }
   ],
   "source": [
    "def purple_shell(racers):\n",
    "    racers = [ racers[-1] ] + racers[1:-1] + [ racers[0] ]    # racers是新串列，不是傳入的testdata了\n",
    "\n",
    "testdata = [1,2,3,4,5]\n",
    "purple_shell(testdata)\n",
    "testdata"
   ]
  },
  {
   "cell_type": "markdown",
   "metadata": {},
   "source": [
    "一樣  \n",
    "racers只存在purple_shell函數內"
   ]
  },
  {
   "cell_type": "code",
   "execution_count": 7,
   "metadata": {},
   "outputs": [
    {
     "ename": "NameError",
     "evalue": "name 'racers' is not defined",
     "output_type": "error",
     "traceback": [
      "\u001b[0;31m---------------------------------------------------------------------------\u001b[0m",
      "\u001b[0;31mNameError\u001b[0m                                 Traceback (most recent call last)",
      "\u001b[0;32m<ipython-input-7-d845efde423d>\u001b[0m in \u001b[0;36m<module>\u001b[0;34m()\u001b[0m\n\u001b[0;32m----> 1\u001b[0;31m \u001b[0mracers\u001b[0m\u001b[0;34m\u001b[0m\u001b[0m\n\u001b[0m",
      "\u001b[0;31mNameError\u001b[0m: name 'racers' is not defined"
     ]
    }
   ],
   "source": [
    "racers"
   ]
  },
  {
   "cell_type": "markdown",
   "metadata": {},
   "source": [
    "可是  \n",
    "一個正常的函數  \n",
    "不該改變傳入函數的變數  \n",
    "應該要用return傳回結果  \n",
    "像這樣"
   ]
  },
  {
   "cell_type": "code",
   "execution_count": 8,
   "metadata": {},
   "outputs": [
    {
     "name": "stdout",
     "output_type": "stream",
     "text": [
      "[5, 2, 3, 4, 1]\n",
      "[1, 2, 3, 4, 5]\n"
     ]
    }
   ],
   "source": [
    "def purple_shell(racers):\n",
    "    return [ racers[-1] ] + racers[1:-1] + [ racers[0] ]\n",
    "\n",
    "testdata = [1,2,3,4,5]\n",
    "print(purple_shell(testdata))\n",
    "print(testdata)"
   ]
  },
  {
   "cell_type": "markdown",
   "metadata": {},
   "source": [
    "還是一樣  \n",
    "racers只存在purple_shell函數內"
   ]
  },
  {
   "cell_type": "code",
   "execution_count": 9,
   "metadata": {},
   "outputs": [
    {
     "ename": "NameError",
     "evalue": "name 'racers' is not defined",
     "output_type": "error",
     "traceback": [
      "\u001b[0;31m---------------------------------------------------------------------------\u001b[0m",
      "\u001b[0;31mNameError\u001b[0m                                 Traceback (most recent call last)",
      "\u001b[0;32m<ipython-input-9-d845efde423d>\u001b[0m in \u001b[0;36m<module>\u001b[0;34m()\u001b[0m\n\u001b[0;32m----> 1\u001b[0;31m \u001b[0mracers\u001b[0m\u001b[0;34m\u001b[0m\u001b[0m\n\u001b[0m",
      "\u001b[0;31mNameError\u001b[0m: name 'racers' is not defined"
     ]
    }
   ],
   "source": [
    "racers"
   ]
  },
  {
   "cell_type": "markdown",
   "metadata": {},
   "source": [
    "## 結論\n",
    "若還是不懂「傳值傳址」沒關係  \n",
    "但至少要懂「區域變數」不存在函數外"
   ]
  }
 ],
 "metadata": {
  "kernelspec": {
   "display_name": "Python 3",
   "language": "python",
   "name": "python3"
  },
  "language_info": {
   "codemirror_mode": {
    "name": "ipython",
    "version": 3
   },
   "file_extension": ".py",
   "mimetype": "text/x-python",
   "name": "python",
   "nbconvert_exporter": "python",
   "pygments_lexer": "ipython3",
   "version": "3.6.4"
  }
 },
 "nbformat": 4,
 "nbformat_minor": 2
}
