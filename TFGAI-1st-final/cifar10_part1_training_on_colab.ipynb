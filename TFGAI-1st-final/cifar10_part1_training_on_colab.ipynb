{
  "nbformat": 4,
  "nbformat_minor": 0,
  "metadata": {
    "colab": {
      "name": "cifar10_part1_training_on_colab.ipynb",
      "provenance": [],
      "collapsed_sections": [],
      "toc_visible": true,
      "include_colab_link": true
    },
    "kernelspec": {
      "name": "python3",
      "display_name": "Python 3"
    },
    "accelerator": "GPU"
  },
  "cells": [
    {
      "cell_type": "markdown",
      "metadata": {
        "id": "view-in-github",
        "colab_type": "text"
      },
      "source": [
        "<a href=\"https://colab.research.google.com/github/x1001000/TFGAI/blob/master/TFGAI-1st-final/cifar10_part1_training_on_colab.ipynb\" target=\"_parent\"><img src=\"https://colab.research.google.com/assets/colab-badge.svg\" alt=\"Open In Colab\"/></a>"
      ]
    },
    {
      "cell_type": "markdown",
      "metadata": {
        "id": "L5DG-6wxa1uC"
      },
      "source": [
        "# Data"
      ]
    },
    {
      "cell_type": "markdown",
      "metadata": {
        "id": "BLYIPvYpa52i"
      },
      "source": [
        "1. 資料都是數據化的多維陣列  \n",
        "資料常要視覺化以幫助理解\n",
        "\n",
        "2. 匯入多維陣列運算要用的函式庫 numpy，以下簡稱為 np  \n",
        "匯入作圖要用的函式庫 matplotlib.pyplot，以下簡稱為 plt"
      ]
    },
    {
      "cell_type": "code",
      "metadata": {
        "id": "9CNV6V0IZbXq"
      },
      "source": [
        "import numpy as np\n",
        "import matplotlib.pyplot as plt"
      ],
      "execution_count": null,
      "outputs": []
    },
    {
      "cell_type": "markdown",
      "metadata": {
        "id": "eK86NyZPa_VK"
      },
      "source": [
        "3. [CIFAR-10](https://www.cs.toronto.edu/~kriz/cifar.html) 資料集有10類各6000張32x32的彩圖，預先被切成50000筆訓練圖片及其類別，和10000筆測試圖片及其類別\n",
        "\n",
        "4. x aka feature, image 32x32x3 in this case  \n",
        "y aka label, classification 0~9 in this case\n",
        "\n",
        "5. x 是四維陣列，陣列中有50000/10000個三維(三個數字)陣列  \n",
        "y 是二維陣列，陣列中有50000/10000個一維(一個數字)陣列，一維陣列又稱向量，而這個向量是個一維(數字為1)向量，就是包含一個純量的向量"
      ]
    },
    {
      "cell_type": "code",
      "metadata": {
        "id": "gJQVlj2UZn45",
        "colab": {
          "base_uri": "https://localhost:8080/",
          "height": 136
        },
        "outputId": "0c89ff94-cc25-45aa-a021-08574faceef3"
      },
      "source": [
        "from keras.datasets import cifar10\n",
        "#data = cifar10.load_data()\n",
        "(x_train, y_train), (x_test, y_test) = cifar10.load_data()\n",
        "print(x_train.shape)\n",
        "print(y_train.shape)\n",
        "print(x_test.shape)\n",
        "print(y_test.shape)"
      ],
      "execution_count": null,
      "outputs": [
        {
          "output_type": "stream",
          "text": [
            "Using TensorFlow backend.\n"
          ],
          "name": "stderr"
        },
        {
          "output_type": "stream",
          "text": [
            "Downloading data from https://www.cs.toronto.edu/~kriz/cifar-10-python.tar.gz\n",
            "170500096/170498071 [==============================] - 9s 0us/step\n",
            "(50000, 32, 32, 3)\n",
            "(50000, 1)\n",
            "(10000, 32, 32, 3)\n",
            "(10000, 1)\n"
          ],
          "name": "stdout"
        }
      ]
    },
    {
      "cell_type": "markdown",
      "metadata": {
        "id": "4vlVGDywK6_y"
      },
      "source": [
        "6. 準備一個字典，方便將類別的數字翻成英文"
      ]
    },
    {
      "cell_type": "code",
      "metadata": {
        "id": "GYEim37OHwDT"
      },
      "source": [
        "thing = {0:\"airplane\", 1:\"automobile\", 2:\"bird\", 3:\"cat\", 4:\"deer\", 5:\"dog\", 6:\"frog\", 7:\"horse\", 8:\"ship\", 9:\"truck\"}"
      ],
      "execution_count": null,
      "outputs": []
    },
    {
      "cell_type": "markdown",
      "metadata": {
        "id": "ysWimfgyx6ZQ"
      },
      "source": [
        "7. 看一下 training data 的 5566~5571 筆的圖片及其類別\n",
        "\n",
        "8. 5566可以換個數字試試"
      ]
    },
    {
      "cell_type": "code",
      "metadata": {
        "id": "cCOWVOifA7SQ",
        "colab": {
          "base_uri": "https://localhost:8080/",
          "height": 340
        },
        "outputId": "8e21d191-af83-4f3e-b04b-525c41c505ae"
      },
      "source": [
        "for i in range(6):\n",
        "  ax = plt.subplot(2, 3, 1+i)\n",
        "  ax.imshow(x_train[5566+i])\n",
        "  ax.set_title(thing[y_train[5566+i][0]])\n",
        "  ax.set_xticks([])\n",
        "  ax.set_yticks([])"
      ],
      "execution_count": null,
      "outputs": [
        {
          "output_type": "display_data",
          "data": {
            "image/png": "[encoded data removed]",
            "text/plain": [
              "<matplotlib.figure.Figure at 0x7f02cfb53c88>"
            ]
          },
          "metadata": {
            "tags": []
          }
        }
      ]
    },
    {
      "cell_type": "markdown",
      "metadata": {
        "id": "k9oyCAqZ-YHE"
      },
      "source": [
        "# Normalization"
      ]
    },
    {
      "cell_type": "markdown",
      "metadata": {
        "id": "R-oODbaBMg_h"
      },
      "source": [
        "9. training data 的第5566筆的第0列的第0~31個像素的RGB值"
      ]
    },
    {
      "cell_type": "code",
      "metadata": {
        "id": "gqaJyTIhQmNC",
        "colab": {
          "base_uri": "https://localhost:8080/",
          "height": 561
        },
        "outputId": "59f38a30-668c-42a3-cec1-040f8e9f9dea"
      },
      "source": [
        "x_train[5566, 0, :, :]"
      ],
      "execution_count": null,
      "outputs": [
        {
          "output_type": "execute_result",
          "data": {
            "text/plain": [
              "array([[253, 253, 253],\n",
              "       [253, 253, 253],\n",
              "       [254, 254, 254],\n",
              "       [254, 254, 254],\n",
              "       [254, 254, 254],\n",
              "       [253, 253, 253],\n",
              "       [252, 252, 252],\n",
              "       [251, 251, 251],\n",
              "       [251, 251, 251],\n",
              "       [252, 251, 251],\n",
              "       [251, 252, 252],\n",
              "       [246, 254, 253],\n",
              "       [243, 253, 252],\n",
              "       [241, 253, 251],\n",
              "       [239, 253, 250],\n",
              "       [237, 252, 249],\n",
              "       [234, 252, 250],\n",
              "       [231, 253, 254],\n",
              "       [229, 253, 254],\n",
              "       [226, 252, 253],\n",
              "       [222, 251, 252],\n",
              "       [220, 251, 250],\n",
              "       [218, 249, 250],\n",
              "       [214, 245, 250],\n",
              "       [210, 241, 249],\n",
              "       [207, 237, 250],\n",
              "       [205, 234, 251],\n",
              "       [201, 230, 251],\n",
              "       [198, 228, 249],\n",
              "       [196, 227, 246],\n",
              "       [192, 224, 243],\n",
              "       [190, 221, 240]], dtype=uint8)"
            ]
          },
          "metadata": {
            "tags": []
          },
          "execution_count": 5
        }
      ]
    },
    {
      "cell_type": "markdown",
      "metadata": {
        "id": "hIwNjNTyVrOL"
      },
      "source": [
        "10. Normalization就是把0~255變成0~1"
      ]
    },
    {
      "cell_type": "code",
      "metadata": {
        "id": "aTLvQnUlfSua"
      },
      "source": [
        "x_train = x_train/255\n",
        "x_test = x_test/255"
      ],
      "execution_count": null,
      "outputs": []
    },
    {
      "cell_type": "markdown",
      "metadata": {
        "id": "YyfSya0sWNJk"
      },
      "source": [
        "11. Normalized training data 的第5566筆的第0列的第0~31個像素的RGB值"
      ]
    },
    {
      "cell_type": "code",
      "metadata": {
        "id": "OUa476ynhVUI",
        "colab": {
          "base_uri": "https://localhost:8080/",
          "height": 561
        },
        "outputId": "cdad363c-6c97-454b-883d-ebb759e091cb"
      },
      "source": [
        "x_train[5566, 0, :, :]"
      ],
      "execution_count": null,
      "outputs": [
        {
          "output_type": "execute_result",
          "data": {
            "text/plain": [
              "array([[0.99215686, 0.99215686, 0.99215686],\n",
              "       [0.99215686, 0.99215686, 0.99215686],\n",
              "       [0.99607843, 0.99607843, 0.99607843],\n",
              "       [0.99607843, 0.99607843, 0.99607843],\n",
              "       [0.99607843, 0.99607843, 0.99607843],\n",
              "       [0.99215686, 0.99215686, 0.99215686],\n",
              "       [0.98823529, 0.98823529, 0.98823529],\n",
              "       [0.98431373, 0.98431373, 0.98431373],\n",
              "       [0.98431373, 0.98431373, 0.98431373],\n",
              "       [0.98823529, 0.98431373, 0.98431373],\n",
              "       [0.98431373, 0.98823529, 0.98823529],\n",
              "       [0.96470588, 0.99607843, 0.99215686],\n",
              "       [0.95294118, 0.99215686, 0.98823529],\n",
              "       [0.94509804, 0.99215686, 0.98431373],\n",
              "       [0.9372549 , 0.99215686, 0.98039216],\n",
              "       [0.92941176, 0.98823529, 0.97647059],\n",
              "       [0.91764706, 0.98823529, 0.98039216],\n",
              "       [0.90588235, 0.99215686, 0.99607843],\n",
              "       [0.89803922, 0.99215686, 0.99607843],\n",
              "       [0.88627451, 0.98823529, 0.99215686],\n",
              "       [0.87058824, 0.98431373, 0.98823529],\n",
              "       [0.8627451 , 0.98431373, 0.98039216],\n",
              "       [0.85490196, 0.97647059, 0.98039216],\n",
              "       [0.83921569, 0.96078431, 0.98039216],\n",
              "       [0.82352941, 0.94509804, 0.97647059],\n",
              "       [0.81176471, 0.92941176, 0.98039216],\n",
              "       [0.80392157, 0.91764706, 0.98431373],\n",
              "       [0.78823529, 0.90196078, 0.98431373],\n",
              "       [0.77647059, 0.89411765, 0.97647059],\n",
              "       [0.76862745, 0.89019608, 0.96470588],\n",
              "       [0.75294118, 0.87843137, 0.95294118],\n",
              "       [0.74509804, 0.86666667, 0.94117647]])"
            ]
          },
          "metadata": {
            "tags": []
          },
          "execution_count": 7
        }
      ]
    },
    {
      "cell_type": "markdown",
      "metadata": {
        "id": "FPHSz-xuhZ3n"
      },
      "source": [
        "# One-hot encoding"
      ]
    },
    {
      "cell_type": "markdown",
      "metadata": {
        "id": "hHl2Yb0RZIbk"
      },
      "source": [
        "12. training data 的第0筆是個一維向量(一對中括號間有一個數字)"
      ]
    },
    {
      "cell_type": "code",
      "metadata": {
        "id": "QjX8E6cI_ig0",
        "colab": {
          "base_uri": "https://localhost:8080/",
          "height": 34
        },
        "outputId": "4f79dd53-37d4-4b3a-b3cc-e041f5ce3728"
      },
      "source": [
        "y_train[0]"
      ],
      "execution_count": null,
      "outputs": [
        {
          "output_type": "execute_result",
          "data": {
            "text/plain": [
              "array([6], dtype=uint8)"
            ]
          },
          "metadata": {
            "tags": []
          },
          "execution_count": 8
        }
      ]
    },
    {
      "cell_type": "markdown",
      "metadata": {
        "id": "YvSe0et7ZkWv"
      },
      "source": [
        "13. 獨熱編碼就是把一維向量變成獨熱的N維向量(一對中括號間有N個數字，只有一個是1，其他是0)"
      ]
    },
    {
      "cell_type": "code",
      "metadata": {
        "id": "U9w9-mKv-3I1"
      },
      "source": [
        "from keras.utils import np_utils\n",
        "y_train_onehot = np_utils.to_categorical(y_train)\n",
        "y_test_onehot = np_utils.to_categorical(y_test)"
      ],
      "execution_count": null,
      "outputs": []
    },
    {
      "cell_type": "markdown",
      "metadata": {
        "id": "XbULrz8SyNda"
      },
      "source": [
        "14. 獨熱編碼的 training data 的第0筆是個10維向量(一對中括號間有10個數字)"
      ]
    },
    {
      "cell_type": "code",
      "metadata": {
        "id": "1rBd8dLrAGpc",
        "colab": {
          "base_uri": "https://localhost:8080/",
          "height": 34
        },
        "outputId": "820b23c2-4c30-4dbe-b75c-632c72bbab58"
      },
      "source": [
        "y_train_onehot[0]"
      ],
      "execution_count": null,
      "outputs": [
        {
          "output_type": "execute_result",
          "data": {
            "text/plain": [
              "array([0., 0., 0., 0., 0., 0., 1., 0., 0., 0.], dtype=float32)"
            ]
          },
          "metadata": {
            "tags": []
          },
          "execution_count": 10
        }
      ]
    },
    {
      "cell_type": "markdown",
      "metadata": {
        "id": "xaXGVtb2FaCQ"
      },
      "source": [
        "# Model"
      ]
    },
    {
      "cell_type": "markdown",
      "metadata": {
        "id": "K27ixz0BBeDZ"
      },
      "source": [
        "15. 初學者用高階的Keras函式庫(之後再用TensorFlow函式庫)  \n",
        "初學者用順序式模型(之後再用函數式模型)"
      ]
    },
    {
      "cell_type": "code",
      "metadata": {
        "id": "ub7Iwo_0A-I1"
      },
      "source": [
        "from keras.models import Sequential\n",
        "model = Sequential()"
      ],
      "execution_count": null,
      "outputs": []
    },
    {
      "cell_type": "markdown",
      "metadata": {
        "id": "B5hRX0xgL7WV"
      },
      "source": [
        "16. 匯入要用的神經網路層\n",
        "\n",
        "17. 卷積層 => 池化層 => 卷積層 => 池化層 => 卷積層 => 池化層 => 攤平層 => 全連接層 => 全連接層  \n",
        "放棄層藉由隨機放棄更新一部份神經元，避免模型過度擬合(overfitting)訓練資料，反而降低理解力  \n",
        "試試註解掉放棄層，看看有何不同\n",
        "\n",
        "18. 層就是一排神經元，輸入上一層的輸出\n",
        "\n",
        "19. 卷積層建構函數的引數：  \n",
        "filters是濾鏡組數，就是特徵圖數，就是神經元數，就是線性函數的個數  \n",
        "kernel_size是濾鏡的形狀，Conv2D的kernel_size就會是2D的  \n",
        "padding='same'，讓卷積結果圖不會小一圈  \n",
        "input_shape是輸入這一層眾神經元們的陣列形狀，只有第一層要填  \n",
        "activation='relu'，relu是REctified Linear Unit的縮寫，y=f(x)=max(0,x)，y等於0和x中較大者，換句話說，當x>0時y等於x，否則y等於0\n",
        "\n",
        "20. 池化層建構函數的引數：  \n",
        "pool_size就是從多大的池子取一個值，池化目的是壓縮資料量\n",
        "\n",
        "21. 放棄層建構函數的引數：  \n",
        "rate就是隨機放棄更新的比例\n",
        "\n",
        "22. 攤平層把上一層輸出的所有特徵圖像素排成一直線，以便銜接全連接層，再銜接至降至10個神經元的全連接層，輸出10維向量\n",
        "\n",
        "23. 輸出層的activation='softmax'，使10個輸出值的和，為機率的和，為1"
      ]
    },
    {
      "cell_type": "code",
      "metadata": {
        "id": "YO1ldsVPF1mB"
      },
      "source": [
        "from keras.layers import Conv2D, MaxPooling2D, Dropout, Flatten, Dense\n",
        "\n",
        "model.add(Conv2D(filters=32,\n",
        "                 kernel_size=(3,3),\n",
        "                 padding='same',\n",
        "                 input_shape=(32,32,3), \n",
        "                 activation='relu'))\n",
        "model.add(MaxPooling2D(pool_size=(2,2)))\n",
        "model.add(Dropout(rate=0.25))\n",
        "\n",
        "model.add(Conv2D(filters=64,\n",
        "                 kernel_size=(3,3),\n",
        "                 padding='same',\n",
        "                 activation='relu'))\n",
        "model.add(MaxPooling2D(pool_size=(2,2)))\n",
        "model.add(Dropout(rate=0.25))\n",
        "\n",
        "model.add(Conv2D(filters=128,\n",
        "                 kernel_size=(3,3),\n",
        "                 padding='same',\n",
        "                 activation='relu'))\n",
        "model.add(MaxPooling2D(pool_size=(2,2)))\n",
        "model.add(Dropout(rate=0.25))\n",
        "\n",
        "model.add(Flatten())\n",
        "model.add(Dense(512, activation='relu'))\n",
        "model.add(Dropout(rate=0.25))\n",
        "\n",
        "model.add(Dense(10, activation='softmax'))"
      ],
      "execution_count": null,
      "outputs": []
    },
    {
      "cell_type": "markdown",
      "metadata": {
        "id": "GUM7CwStj7sG"
      },
      "source": [
        "24. 列印神經網路架構\n",
        "\n",
        "25. 模型參數Param個數：  \n",
        "( 3x3濾鏡形狀 x 3面RGB + 1個bias ) x 32面特徵圖 = 896  \n",
        "( 3x3濾鏡形狀 x 32面特徵圖 + 1個bias ) x 64面特徵圖 = 18496  \n",
        "( 3x3濾鏡形狀 x 64面特徵圖 + 1個bias ) x 128面特徵圖 = 73856  \n",
        "( 2048個輸入 + 1個bias ) x 512個神經元 = 1049088  \n",
        "( 512個輸入 + 1個bias ) x 10個神經元 = 5130"
      ]
    },
    {
      "cell_type": "code",
      "metadata": {
        "id": "jMCSNBfij6zK",
        "colab": {
          "base_uri": "https://localhost:8080/",
          "height": 578
        },
        "outputId": "36123ce0-46fc-467f-b8cf-5fc45cf6f10f"
      },
      "source": [
        "model.summary()"
      ],
      "execution_count": null,
      "outputs": [
        {
          "output_type": "stream",
          "text": [
            "_________________________________________________________________\n",
            "Layer (type)                 Output Shape              Param #   \n",
            "=================================================================\n",
            "conv2d_1 (Conv2D)            (None, 32, 32, 32)        896       \n",
            "_________________________________________________________________\n",
            "max_pooling2d_1 (MaxPooling2 (None, 16, 16, 32)        0         \n",
            "_________________________________________________________________\n",
            "dropout_1 (Dropout)          (None, 16, 16, 32)        0         \n",
            "_________________________________________________________________\n",
            "conv2d_2 (Conv2D)            (None, 16, 16, 64)        18496     \n",
            "_________________________________________________________________\n",
            "max_pooling2d_2 (MaxPooling2 (None, 8, 8, 64)          0         \n",
            "_________________________________________________________________\n",
            "dropout_2 (Dropout)          (None, 8, 8, 64)          0         \n",
            "_________________________________________________________________\n",
            "conv2d_3 (Conv2D)            (None, 8, 8, 128)         73856     \n",
            "_________________________________________________________________\n",
            "max_pooling2d_3 (MaxPooling2 (None, 4, 4, 128)         0         \n",
            "_________________________________________________________________\n",
            "dropout_3 (Dropout)          (None, 4, 4, 128)         0         \n",
            "_________________________________________________________________\n",
            "flatten_1 (Flatten)          (None, 2048)              0         \n",
            "_________________________________________________________________\n",
            "dense_1 (Dense)              (None, 512)               1049088   \n",
            "_________________________________________________________________\n",
            "dropout_4 (Dropout)          (None, 512)               0         \n",
            "_________________________________________________________________\n",
            "dense_2 (Dense)              (None, 10)                5130      \n",
            "=================================================================\n",
            "Total params: 1,147,466\n",
            "Trainable params: 1,147,466\n",
            "Non-trainable params: 0\n",
            "_________________________________________________________________\n"
          ],
          "name": "stdout"
        }
      ]
    },
    {
      "cell_type": "markdown",
      "metadata": {
        "id": "99AZyEjOymo3"
      },
      "source": [
        "# Train"
      ]
    },
    {
      "cell_type": "markdown",
      "metadata": {
        "id": "j7SuXq9svRZL"
      },
      "source": [
        "26. [Before training a model, you need to configure the learning process, which is done via the compile method. It receives three arguments:](https://keras.io/getting-started/sequential-model-guide/)\n",
        ">1. loss='categorical_crossentropy'，針對分類問題的loss算法\n",
        ">2. optimizer='adam'，[Adam — latest trends in deep learning optimization](https://towardsdatascience.com/adam-latest-trends-in-deep-learning-optimization-6be9a291375c)  \n",
        ">3. metrics=['accuracy']，訓練過程顯示準確率"
      ]
    },
    {
      "cell_type": "code",
      "metadata": {
        "id": "oBLPWY1UwhlT"
      },
      "source": [
        "model.compile(loss='categorical_crossentropy',\n",
        "              optimizer='adam',\n",
        "              metrics=['accuracy'])"
      ],
      "execution_count": null,
      "outputs": []
    },
    {
      "cell_type": "markdown",
      "metadata": {
        "id": "HNXO4jKQ0b7L"
      },
      "source": [
        "27. 用訓練資料的feature(x_train)和label(y_train)讓模型去學習(fit)  \n",
        "batch_size = 學習(更新Param)一波的樣本數  \n",
        "epochs = 學習訓練資料全部樣本的回合數  \n",
        "validation_split = 切多少比例的訓練資料，不做訓練，做驗證"
      ]
    },
    {
      "cell_type": "code",
      "metadata": {
        "id": "7iFyQA_Jytkx",
        "colab": {
          "base_uri": "https://localhost:8080/",
          "height": 734
        },
        "outputId": "4bdfadf5-165f-46da-9ce2-d2ca8472d08d"
      },
      "source": [
        "learning = model.fit(x_train,\n",
        "                     y_train_onehot,\n",
        "                     batch_size=128,\n",
        "                     epochs=20,\n",
        "                     validation_split=0.2)"
      ],
      "execution_count": null,
      "outputs": [
        {
          "output_type": "stream",
          "text": [
            "Train on 40000 samples, validate on 10000 samples\n",
            "Epoch 1/20\n",
            "40000/40000 [==============================] - 13s 336us/step - loss: 1.6934 - acc: 0.3787 - val_loss: 1.3531 - val_acc: 0.5242\n",
            "Epoch 2/20\n",
            "40000/40000 [==============================] - 9s 228us/step - loss: 1.2846 - acc: 0.5408 - val_loss: 1.1291 - val_acc: 0.6062\n",
            "Epoch 3/20\n",
            "40000/40000 [==============================] - 9s 229us/step - loss: 1.1153 - acc: 0.6023 - val_loss: 0.9813 - val_acc: 0.6553\n",
            "Epoch 4/20\n",
            "40000/40000 [==============================] - 9s 228us/step - loss: 1.0032 - acc: 0.6451 - val_loss: 0.8939 - val_acc: 0.6892\n",
            "Epoch 5/20\n",
            "40000/40000 [==============================] - 9s 226us/step - loss: 0.9330 - acc: 0.6724 - val_loss: 0.8816 - val_acc: 0.6945\n",
            "Epoch 6/20\n",
            "40000/40000 [==============================] - 9s 227us/step - loss: 0.8754 - acc: 0.6934 - val_loss: 0.8052 - val_acc: 0.7208\n",
            "Epoch 7/20\n",
            "40000/40000 [==============================] - 9s 227us/step - loss: 0.8171 - acc: 0.7110 - val_loss: 0.7810 - val_acc: 0.7318\n",
            "Epoch 8/20\n",
            "40000/40000 [==============================] - 9s 223us/step - loss: 0.7678 - acc: 0.7292 - val_loss: 0.7583 - val_acc: 0.7420\n",
            "Epoch 9/20\n",
            "40000/40000 [==============================] - 9s 221us/step - loss: 0.7258 - acc: 0.7446 - val_loss: 0.7330 - val_acc: 0.7441\n",
            "Epoch 10/20\n",
            "40000/40000 [==============================] - 9s 221us/step - loss: 0.6935 - acc: 0.7538 - val_loss: 0.7080 - val_acc: 0.7533\n",
            "Epoch 11/20\n",
            "40000/40000 [==============================] - 9s 222us/step - loss: 0.6574 - acc: 0.7672 - val_loss: 0.6754 - val_acc: 0.7667\n",
            "Epoch 12/20\n",
            "40000/40000 [==============================] - 9s 221us/step - loss: 0.6216 - acc: 0.7794 - val_loss: 0.7191 - val_acc: 0.7515\n",
            "Epoch 13/20\n",
            "40000/40000 [==============================] - 9s 221us/step - loss: 0.5932 - acc: 0.7896 - val_loss: 0.6825 - val_acc: 0.7661\n",
            "Epoch 14/20\n",
            "40000/40000 [==============================] - 9s 225us/step - loss: 0.5767 - acc: 0.7944 - val_loss: 0.6942 - val_acc: 0.7610\n",
            "Epoch 15/20\n",
            "40000/40000 [==============================] - 9s 221us/step - loss: 0.5436 - acc: 0.8066 - val_loss: 0.6676 - val_acc: 0.7737\n",
            "Epoch 16/20\n",
            "40000/40000 [==============================] - 9s 221us/step - loss: 0.5249 - acc: 0.8140 - val_loss: 0.6667 - val_acc: 0.7757\n",
            "Epoch 17/20\n",
            "40000/40000 [==============================] - 9s 221us/step - loss: 0.5070 - acc: 0.8187 - val_loss: 0.6748 - val_acc: 0.7707\n",
            "Epoch 18/20\n",
            "40000/40000 [==============================] - 9s 221us/step - loss: 0.4714 - acc: 0.8319 - val_loss: 0.6667 - val_acc: 0.7797\n",
            "Epoch 19/20\n",
            "40000/40000 [==============================] - 9s 220us/step - loss: 0.4634 - acc: 0.8337 - val_loss: 0.6761 - val_acc: 0.7777\n",
            "Epoch 20/20\n",
            "40000/40000 [==============================] - 9s 220us/step - loss: 0.4396 - acc: 0.8418 - val_loss: 0.6669 - val_acc: 0.7796\n"
          ],
          "name": "stdout"
        }
      ]
    },
    {
      "cell_type": "markdown",
      "metadata": {
        "id": "oaXQtjBRFSza"
      },
      "source": [
        "28. 畫出學習歷程的模型推論準確率  \n",
        "藍色曲線是模型對訓練資料的推論準確率  \n",
        "綠色曲線是模型對驗證資料的推論準確率  \n",
        "約在第10學習週期開始過度擬合"
      ]
    },
    {
      "cell_type": "code",
      "metadata": {
        "id": "FC7y_zB-3YGO",
        "colab": {
          "base_uri": "https://localhost:8080/",
          "height": 378
        },
        "outputId": "43409c00-a2d5-4524-a72e-68822f6fbc67"
      },
      "source": [
        "plt.xlabel('Epoch')\n",
        "plt.ylabel('Accuracy')\n",
        "plt.plot(learning.history['acc'])\n",
        "plt.plot(learning.history['val_acc'])\n",
        "plt.legend(['training data learned', 'training data not learned'])"
      ],
      "execution_count": null,
      "outputs": [
        {
          "output_type": "execute_result",
          "data": {
            "text/plain": [
              "<matplotlib.legend.Legend at 0x7f02c5606940>"
            ]
          },
          "metadata": {
            "tags": []
          },
          "execution_count": 16
        },
        {
          "output_type": "display_data",
          "data": {
            "image/png": "[encoded data removed]",
            "text/plain": [
              "<matplotlib.figure.Figure at 0x7f02c5e58390>"
            ]
          },
          "metadata": {
            "tags": []
          }
        }
      ]
    },
    {
      "cell_type": "markdown",
      "metadata": {
        "id": "4lhlEGpKLKr0"
      },
      "source": [
        "29. 最後的模型推論準確率"
      ]
    },
    {
      "cell_type": "code",
      "metadata": {
        "id": "2FHMn4tBK1OH",
        "colab": {
          "base_uri": "https://localhost:8080/",
          "height": 34
        },
        "outputId": "b84cb431-c998-422f-e4aa-af07e39c7394"
      },
      "source": [
        "learning.history['val_acc'][-1]"
      ],
      "execution_count": null,
      "outputs": [
        {
          "output_type": "execute_result",
          "data": {
            "text/plain": [
              "0.7796"
            ]
          },
          "metadata": {
            "tags": []
          },
          "execution_count": 17
        }
      ]
    },
    {
      "cell_type": "markdown",
      "metadata": {
        "id": "0KGo4Lw9MHcc"
      },
      "source": [
        "30. 用model.evaluate函數評估模型對10000筆測試資料的推論準確率，約略同上"
      ]
    },
    {
      "cell_type": "code",
      "metadata": {
        "id": "nOcTHXj57vLa",
        "colab": {
          "base_uri": "https://localhost:8080/",
          "height": 51
        },
        "outputId": "39645e5f-7c10-41eb-9eb2-8c02c78a1c01"
      },
      "source": [
        "loss, accuracy = model.evaluate(x_test, y_test_onehot)\n",
        "accuracy"
      ],
      "execution_count": null,
      "outputs": [
        {
          "output_type": "stream",
          "text": [
            "10000/10000 [==============================] - 1s 133us/step\n"
          ],
          "name": "stdout"
        },
        {
          "output_type": "execute_result",
          "data": {
            "text/plain": [
              "0.7744"
            ]
          },
          "metadata": {
            "tags": []
          },
          "execution_count": 18
        }
      ]
    },
    {
      "cell_type": "markdown",
      "metadata": {
        "id": "2JBEUjMqL_jU"
      },
      "source": [
        "# Inference"
      ]
    },
    {
      "cell_type": "markdown",
      "metadata": {
        "id": "BbVLNCkMfVF-"
      },
      "source": [
        "31. 以模型對測試資料取得推論為例  \n",
        "用model.predict函數取得推論，為10000筆10維向量  \n",
        "用model.predict_classes取得推論，為10000筆純量  \n",
        "查看第0筆的獨熱編碼及其類別是一致的"
      ]
    },
    {
      "cell_type": "code",
      "metadata": {
        "id": "d5XY25-mUXH4",
        "colab": {
          "base_uri": "https://localhost:8080/",
          "height": 102
        },
        "outputId": "9aa767bf-f991-47aa-af12-d72cc2497d91"
      },
      "source": [
        "prediction = model.predict(x_test)\n",
        "classification = model.predict_classes(x_test)\n",
        "print(prediction.shape)\n",
        "print(classification.shape)\n",
        "print(prediction[0])\n",
        "print(classification[0])"
      ],
      "execution_count": null,
      "outputs": [
        {
          "output_type": "stream",
          "text": [
            "(10000, 10)\n",
            "(10000,)\n",
            "[1.7070312e-02 5.4837577e-03 7.8360259e-04 7.5729650e-01 4.2174882e-04\n",
            " 1.6835628e-01 1.5961150e-02 3.0863092e-03 4.3150582e-03 2.7225273e-02]\n",
            "3\n"
          ],
          "name": "stdout"
        }
      ]
    },
    {
      "cell_type": "markdown",
      "metadata": {
        "id": "sDq28SY3kCTd"
      },
      "source": [
        "32. 任意看15張圖的推論結果正確與否"
      ]
    },
    {
      "cell_type": "code",
      "metadata": {
        "id": "M_OVSHnqGsN_",
        "colab": {
          "base_uri": "https://localhost:8080/",
          "height": 334
        },
        "outputId": "55894c44-44b9-45e1-b182-dd58fef8d036"
      },
      "source": [
        "for i in range(15):\n",
        "  ax = plt.subplot(3, 5, 1+i)\n",
        "  ax.imshow(x_test[i])\n",
        "  ax.set_title('O' if classification[5566+i] == y_test[5566+i][0] else 'X')\n",
        "  ax.set_xticks([])\n",
        "  ax.set_yticks([])"
      ],
      "execution_count": null,
      "outputs": [
        {
          "output_type": "display_data",
          "data": {
            "image/png": "[encoded data removed]",
            "text/plain": [
              "<matplotlib.figure.Figure at 0x7f02c5e6e518>"
            ]
          },
          "metadata": {
            "tags": []
          }
        }
      ]
    },
    {
      "cell_type": "markdown",
      "metadata": {
        "id": "hSPrHPbuuYIP"
      },
      "source": [
        "# Save"
      ]
    },
    {
      "cell_type": "markdown",
      "metadata": {
        "id": "qOpZeWSD1dqb"
      },
      "source": [
        "33. Save model to a JSON file"
      ]
    },
    {
      "cell_type": "code",
      "metadata": {
        "id": "DO4Tfv1puTbB",
        "colab": {
          "base_uri": "https://localhost:8080/",
          "height": 51
        },
        "outputId": "a94e009c-709e-4bee-96cf-cf0d31d524f1"
      },
      "source": [
        "!ls\n",
        "model_json = model.to_json()\n",
        "with open('cifar10_model.json', 'w') as f:\n",
        "  f.write(model_json)\n",
        "!ls"
      ],
      "execution_count": null,
      "outputs": [
        {
          "output_type": "stream",
          "text": [
            "sample_data\n",
            "cifar10_model.json  sample_data\n"
          ],
          "name": "stdout"
        }
      ]
    },
    {
      "cell_type": "markdown",
      "metadata": {
        "id": "7RYJK_tf1c-C"
      },
      "source": [
        "34. Save params to a H5 file"
      ]
    },
    {
      "cell_type": "code",
      "metadata": {
        "id": "dKAu4KVR1cdp",
        "colab": {
          "base_uri": "https://localhost:8080/",
          "height": 51
        },
        "outputId": "1965b889-8047-4bca-f282-1a3213583b9e"
      },
      "source": [
        "!ls\n",
        "model.save_weights('cifar10_params.h5')\n",
        "!ls"
      ],
      "execution_count": null,
      "outputs": [
        {
          "output_type": "stream",
          "text": [
            "cifar10_model.json  sample_data\n",
            "cifar10_model.json  cifar10_params.h5  sample_data\n"
          ],
          "name": "stdout"
        }
      ]
    },
    {
      "cell_type": "markdown",
      "metadata": {
        "id": "UqUW0P_93dlw"
      },
      "source": [
        "35. Save params+model to a H5 file"
      ]
    },
    {
      "cell_type": "code",
      "metadata": {
        "id": "UKHQA_gR3imH",
        "colab": {
          "base_uri": "https://localhost:8080/",
          "height": 51
        },
        "outputId": "73f17288-8282-4758-cd7b-ce20fb60236f"
      },
      "source": [
        "!ls\n",
        "model.save('cifar10_params_model.h5')\n",
        "!ls"
      ],
      "execution_count": null,
      "outputs": [
        {
          "output_type": "stream",
          "text": [
            "cifar10_model.json  cifar10_params.h5  sample_data\n",
            "cifar10_model.json  cifar10_params.h5  cifar10_params_model.h5\tsample_data\n"
          ],
          "name": "stdout"
        }
      ]
    },
    {
      "cell_type": "markdown",
      "metadata": {
        "id": "1cao5noVlv57"
      },
      "source": [
        "# Download to local drive"
      ]
    },
    {
      "cell_type": "markdown",
      "metadata": {
        "id": "HGfjM65Jv2dY"
      },
      "source": [
        "36. Colab runtime 和 Chrome 斷線一段時間會被重置，儲存在 Colab runtime 中的檔案不會被保留，而這個 ipynb(IPython/Jupyter Notebook) 還是會存在你的雲端硬碟上\n",
        "37. 點開左側面板，點到Files，在此介面操作檔案的上傳及下載\n",
        "38. 也可以用 google.colab 的 files.upload() 和 files.download()"
      ]
    },
    {
      "cell_type": "code",
      "metadata": {
        "id": "V2Jx8jSwwGSQ"
      },
      "source": [
        "from google.colab import files\n",
        "files.download('cifar10_params_model.h5')"
      ],
      "execution_count": null,
      "outputs": []
    },
    {
      "cell_type": "markdown",
      "metadata": {
        "id": "YKr2whZSmOpI"
      },
      "source": [
        "# Download to Google Drive"
      ]
    },
    {
      "cell_type": "markdown",
      "metadata": {
        "id": "KzUIam89mp1e"
      },
      "source": [
        "39. Colab runtime 可以掛載 Google Drive 為一個目錄"
      ]
    },
    {
      "cell_type": "code",
      "metadata": {
        "id": "6ulTkIwtnoqJ",
        "colab": {
          "base_uri": "https://localhost:8080/",
          "height": 122
        },
        "outputId": "23a483c4-e032-4ce1-a819-4fac5e9b900d"
      },
      "source": [
        "from google.colab import drive\n",
        "drive.mount('/content/gdrive')"
      ],
      "execution_count": null,
      "outputs": [
        {
          "output_type": "stream",
          "text": [
            "Go to this URL in a browser: https://accounts.google.com/o/oauth2/auth?client_id=947318989803-6bn6qk8qdgf4n4g3pfee6491hc0brc4i.apps.googleusercontent.com&redirect_uri=urn%3Aietf%3Awg%3Aoauth%3A2.0%3Aoob&scope=email%20https%3A%2F%2Fwww.googleapis.com%2Fauth%2Fdocs.test%20https%3A%2F%2Fwww.googleapis.com%2Fauth%2Fdrive%20https%3A%2F%2Fwww.googleapis.com%2Fauth%2Fdrive.photos.readonly%20https%3A%2F%2Fwww.googleapis.com%2Fauth%2Fpeopleapi.readonly&response_type=code\n",
            "\n",
            "Enter your authorization code:\n",
            "··········\n",
            "Mounted at /content/gdrive\n"
          ],
          "name": "stdout"
        }
      ]
    },
    {
      "cell_type": "markdown",
      "metadata": {
        "id": "0yzI16beohQI"
      },
      "source": [
        "40. 將要存下來的檔案備份在gdrive/My Drive目錄，即使runtime被重置，檔案還是會存在你的雲端硬碟上"
      ]
    },
    {
      "cell_type": "code",
      "metadata": {
        "id": "agBv3OclpvoN"
      },
      "source": [
        "!cp cifar10* gdrive/My\\ Drive"
      ],
      "execution_count": null,
      "outputs": []
    }
  ]
}